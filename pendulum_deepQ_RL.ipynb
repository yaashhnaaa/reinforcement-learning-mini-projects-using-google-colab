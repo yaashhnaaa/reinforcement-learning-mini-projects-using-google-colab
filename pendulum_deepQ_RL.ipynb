{
  "nbformat": 4,
  "nbformat_minor": 0,
  "metadata": {
    "colab": {
      "provenance": [],
      "authorship_tag": "ABX9TyMwwJrfwIWk1cBeHFuKh69q",
      "include_colab_link": true
    },
    "kernelspec": {
      "name": "python3",
      "display_name": "Python 3"
    },
    "language_info": {
      "name": "python"
    }
  },
  "cells": [
    {
      "cell_type": "markdown",
      "metadata": {
        "id": "view-in-github",
        "colab_type": "text"
      },
      "source": [
        "<a href=\"https://colab.research.google.com/github/yaashhnaaa/reinforcement-learning-mini-projects-using-google-colab/blob/main/pendulum_deepQ_RL.ipynb\" target=\"_parent\"><img src=\"https://colab.research.google.com/assets/colab-badge.svg\" alt=\"Open In Colab\"/></a>"
      ]
    },
    {
      "cell_type": "code",
      "execution_count": 1,
      "metadata": {
        "id": "okNba7TB_Z12"
      },
      "outputs": [],
      "source": [
        "!apt - get install z11 -utils>/dev/null 2>&1\n",
        "!pip install pyglet >/dev/null 2>&1\n",
        "!apt - get install xvfb >/dev/null 2>&1"
      ]
    },
    {
      "cell_type": "code",
      "source": [
        "import numpy as np\n",
        "import matplotlib.pyplot as plt\n",
        "from IPython import display as ipythondisplay"
      ],
      "metadata": {
        "id": "wk2fr28n_kQJ"
      },
      "execution_count": 2,
      "outputs": []
    },
    {
      "cell_type": "code",
      "source": [
        "from gym import envs\n",
        "all_envs = envs.registry.all()\n",
        "env_ids = [env_spec.id for env_spec in all_envs]\n",
        "print(env_ids)"
      ],
      "metadata": {
        "colab": {
          "base_uri": "https://localhost:8080/"
        },
        "id": "Xncyf4Yg_mpq",
        "outputId": "5a4ad0cc-19c5-4337-cfcc-22369e4a2cdc"
      },
      "execution_count": 3,
      "outputs": [
        {
          "output_type": "stream",
          "name": "stdout",
          "text": [
            "['CartPole-v0', 'CartPole-v1', 'MountainCar-v0', 'MountainCarContinuous-v0', 'Pendulum-v1', 'Acrobot-v1', 'LunarLander-v2', 'LunarLanderContinuous-v2', 'BipedalWalker-v3', 'BipedalWalkerHardcore-v3', 'CarRacing-v2', 'Blackjack-v1', 'FrozenLake-v1', 'FrozenLake8x8-v1', 'CliffWalking-v0', 'Taxi-v3', 'Reacher-v2', 'Reacher-v4', 'Pusher-v2', 'Pusher-v4', 'InvertedPendulum-v2', 'InvertedPendulum-v4', 'InvertedDoublePendulum-v2', 'InvertedDoublePendulum-v4', 'HalfCheetah-v2', 'HalfCheetah-v3', 'HalfCheetah-v4', 'Hopper-v2', 'Hopper-v3', 'Hopper-v4', 'Swimmer-v2', 'Swimmer-v3', 'Swimmer-v4', 'Walker2d-v2', 'Walker2d-v3', 'Walker2d-v4', 'Ant-v2', 'Ant-v3', 'Ant-v4', 'Humanoid-v2', 'Humanoid-v3', 'Humanoid-v4', 'HumanoidStandup-v2', 'HumanoidStandup-v4']\n"
          ]
        },
        {
          "output_type": "stream",
          "name": "stderr",
          "text": [
            "/usr/local/lib/python3.10/dist-packages/gym/envs/registration.py:421: UserWarning: \u001b[33mWARN: The `registry.all` method is deprecated. Please use `registry.values` instead.\u001b[0m\n",
            "  logger.warn(\n"
          ]
        }
      ]
    },
    {
      "cell_type": "code",
      "source": [
        "import gym\n",
        "env = gym.make(\"Pendulum-v1\").env"
      ],
      "metadata": {
        "colab": {
          "base_uri": "https://localhost:8080/"
        },
        "id": "0HocaWEC_tBi",
        "outputId": "e7376bc3-1127-4cab-8f6a-82a3b027d3c0"
      },
      "execution_count": 4,
      "outputs": [
        {
          "output_type": "stream",
          "name": "stderr",
          "text": [
            "/usr/local/lib/python3.10/dist-packages/gym/core.py:317: DeprecationWarning: \u001b[33mWARN: Initializing wrapper in old step API which returns one bool instead of two. It is recommended to set `new_step_api=True` to use new step API. This will be the default behaviour in future.\u001b[0m\n",
            "  deprecation(\n",
            "/usr/local/lib/python3.10/dist-packages/gym/wrappers/step_api_compatibility.py:39: DeprecationWarning: \u001b[33mWARN: Initializing environment in old step API which returns one bool instead of two. It is recommended to set `new_step_api=True` to use new step API. This will be the default behaviour in future.\u001b[0m\n",
            "  deprecation(\n"
          ]
        }
      ]
    },
    {
      "cell_type": "code",
      "source": [
        "print(\"State space:\", env.observation_space)\n",
        "print(\"Action space:\", env.action_space)"
      ],
      "metadata": {
        "colab": {
          "base_uri": "https://localhost:8080/"
        },
        "id": "bxY0jfoqA8jD",
        "outputId": "d88cf2c7-2dc8-4a15-d0b6-9e6774528dc6"
      },
      "execution_count": 6,
      "outputs": [
        {
          "output_type": "stream",
          "name": "stdout",
          "text": [
            "State space: Box([-1. -1. -8.], [1. 1. 8.], (3,), float32)\n",
            "Action space: Box(-2.0, 2.0, (1,), float32)\n"
          ]
        }
      ]
    },
    {
      "cell_type": "code",
      "source": [
        "import imageio\n"
      ],
      "metadata": {
        "colab": {
          "base_uri": "https://localhost:8080/"
        },
        "id": "BZy0nu0ZCOtJ",
        "outputId": "e05085f0-3a12-495d-d358-062d18d727ce"
      },
      "execution_count": 7,
      "outputs": [
        {
          "output_type": "stream",
          "name": "stderr",
          "text": [
            "/usr/local/lib/python3.10/dist-packages/ipykernel/ipkernel.py:283: DeprecationWarning: `should_run_async` will not call `transform_cell` automatically in the future. Please pass the result to `transformed_cell` argument and any exception that happen during thetransform in `preprocessing_exc_tuple` in IPython 7.17 and above.\n",
            "  and should_run_async(code)\n"
          ]
        }
      ]
    },
    {
      "cell_type": "code",
      "source": [
        "np_actions = env.action_space\n"
      ],
      "metadata": {
        "id": "efPUdonPCatE"
      },
      "execution_count": 8,
      "outputs": []
    },
    {
      "cell_type": "code",
      "source": [
        "np_ovs = env.observation_space"
      ],
      "metadata": {
        "colab": {
          "base_uri": "https://localhost:8080/"
        },
        "id": "cUqkn9O2Ck9n",
        "outputId": "67dd87c0-d5a9-42d3-84b2-95f0b59e8093"
      },
      "execution_count": 9,
      "outputs": [
        {
          "output_type": "stream",
          "name": "stderr",
          "text": [
            "/usr/local/lib/python3.10/dist-packages/ipykernel/ipkernel.py:283: DeprecationWarning: `should_run_async` will not call `transform_cell` automatically in the future. Please pass the result to `transformed_cell` argument and any exception that happen during thetransform in `preprocessing_exc_tuple` in IPython 7.17 and above.\n",
            "  and should_run_async(code)\n"
          ]
        }
      ]
    },
    {
      "cell_type": "code",
      "source": [
        "from collections import deque\n"
      ],
      "metadata": {
        "id": "jNoxufpsCq-j"
      },
      "execution_count": 10,
      "outputs": []
    },
    {
      "cell_type": "code",
      "source": [
        "class DQAgent:\n",
        "    def __init__(self):\n",
        "        self.state_dim = 3  # Corrected typo: \"sate_dim\" -> \"state_dim\"\n",
        "        self.action_dim = 9\n",
        "        self.lr = 0.01  # Removed the invalid \"A\"\n",
        "        self.gamma = 0.90\n",
        "        self.tau = 0.01\n",
        "        self.epsilon = 1.0\n",
        "        self.epsilon_min = 0.001\n",
        "        self.epsilon_decay = 0.98\n",
        "        self.buffer_size = 100000\n",
        "        self.batch_size = 200\n",
        "        self.memory = ReplayBuffer(self.buffer_size)\n",
        "\n",
        "        self.Q = QNetwork(self.state_dim, self.action_dim, self.lr)\n",
        "        self.Q_target = QNetwork(self.state_dim, self.action_dim, self.lr)\n",
        "        self.Q_target.load_state_dict(self.Q.state_dict())\n",
        "\n",
        "    # Define additional methods if needed\n",
        "\n",
        "\n"
      ],
      "metadata": {
        "id": "HPrNNLvMC6Ko"
      },
      "execution_count": 18,
      "outputs": []
    },
    {
      "cell_type": "code",
      "source": [
        "class ReplayBuffer:\n",
        "  def __init__(self, buffer_limit):\n",
        "    self.buffer = deque(maxlen=buffer_limit)\n",
        "\n",
        "  def put(self, transiton):\n",
        "    self.buffer.append(transiton)\n"
      ],
      "metadata": {
        "id": "0nEVQQudEizU"
      },
      "execution_count": 19,
      "outputs": []
    },
    {
      "cell_type": "code",
      "source": [
        "import torch.nn as nn"
      ],
      "metadata": {
        "id": "u8hVp-7uFWOZ"
      },
      "execution_count": 14,
      "outputs": []
    },
    {
      "cell_type": "code",
      "source": [
        "class QNetwork(nn.Module):  # Ensure you import nn from torch\n",
        "    def __init__(self, state_dim, action_dim, lr):\n",
        "        super(QNetwork, self).__init__()\n",
        "        self.fc1 = nn.Linear(state_dim, 64)\n",
        "        self.fc2 = nn.Linear(64, 32)\n",
        "        self.fc_out = nn.Linear(32, action_dim)\n",
        "\n",
        "        self.lr = lr  # Use the passed lr argument instead of undefined q_lr\n",
        "        self.optimizer = optim.Adam(self.parameters(), lr=self.lr)\n",
        "\n",
        "    def forward(self, state):\n",
        "        x = F.relu(self.fc1(state))\n",
        "        x = F.relu(self.fc2(x))\n",
        "        return self.fc_out(x)\n"
      ],
      "metadata": {
        "id": "nZG203bQFgiU"
      },
      "execution_count": 23,
      "outputs": []
    },
    {
      "cell_type": "code",
      "source": [
        "import torch.optim as optim"
      ],
      "metadata": {
        "id": "uuWIPidQGitW"
      },
      "execution_count": 24,
      "outputs": []
    },
    {
      "cell_type": "code",
      "source": [
        "agent = DQAgent()"
      ],
      "metadata": {
        "id": "8z900giWG9RM"
      },
      "execution_count": 25,
      "outputs": []
    },
    {
      "cell_type": "code",
      "source": [
        "import pygame\n",
        "env.reset()\n",
        "pygame.init()\n",
        "prev_screen =env.render(mode = 'rgb_array')\n",
        "plt.imshow(prev_screen)\n",
        "\n",
        "for i_episodes_2 in range(10001):\n",
        "  action = env.reset()\n",
        "  agent, reward, done, info = env.step(action)\n",
        "  screen= env.render(mode = 'rgb_array')\n",
        "  plt.imshow(screen)\n",
        "\n",
        "  ipythondisplay.clear_output(wait = True)\n",
        "  ipythondisplay.display(plt.gcf())\n",
        "\n",
        "  if done:\n",
        "    break\n",
        "\n",
        "ipythondisplay.clear_output(wait = True)\n",
        "env.close()\n",
        "\n",
        "\n",
        "ipythondisplay.clear_output(wait = True)\n",
        "env.close()\n",
        "\n"
      ],
      "metadata": {
        "colab": {
          "base_uri": "https://localhost:8080/",
          "height": 435
        },
        "id": "PiQF8utRHI6Y",
        "outputId": "f150aff8-9460-4d65-bc0b-19a7b62ba30b"
      },
      "execution_count": null,
      "outputs": [
        {
          "output_type": "display_data",
          "data": {
            "text/plain": [
              "<Figure size 640x480 with 1 Axes>"
            ],
            "image/png": "[encoded data removed]"
          },
          "metadata": {}
        }
      ]
    },
    {
      "cell_type": "code",
      "source": [],
      "metadata": {
        "id": "UMTbcF-sKDaZ"
      },
      "execution_count": null,
      "outputs": []
    }
  ]
}